{
  "nbformat": 4,
  "nbformat_minor": 0,
  "metadata": {
    "colab": {
      "name": "실습1 - 표를 다루는 도구 - 판다스.ipynb",
      "provenance": [],
      "include_colab_link": true
    },
    "kernelspec": {
      "name": "python3",
      "display_name": "Python 3"
    }
  },
  "cells": [
    {
      "cell_type": "markdown",
      "metadata": {
        "id": "view-in-github",
        "colab_type": "text"
      },
      "source": [
        "<a href=\"https://colab.research.google.com/github/sinnarasam/jejudo/blob/jeju.ipynb/%EC%8B%A4%EC%8A%B51_%ED%91%9C%EB%A5%BC_%EB%8B%A4%EB%A3%A8%EB%8A%94_%EB%8F%84%EA%B5%AC_%ED%8C%90%EB%8B%A4%EC%8A%A4.ipynb\" target=\"_parent\"><img src=\"https://colab.research.google.com/assets/colab-badge.svg\" alt=\"Open In Colab\"/></a>"
      ]
    },
    {
      "cell_type": "markdown",
      "metadata": {
        "id": "U3dDH1KaZlEH"
      },
      "source": [
        "# 데이터 준비하기 1\n",
        "\n",
        "1. 데이터를 불러온다\n",
        "2. 종속변수와 독립변수로 분리한다.\n",
        "\n",
        "- 실습을 통해 배울 도구들\n",
        "  - 파일 읽어오기: **read_csv('/경로/파일명.csv')**\n",
        "  - 모양 확인하기: **데이터.shape**\n",
        "  - 칼럼 선택하기: **데이터[['칼럼명1', '칼럼명2', '칼럼명3']]**\n",
        "  - 칼럼 이름 출력하기: **데이터.columns**\n",
        "  - 맨 위 5개 관측치 출력하기: **데이터.head()**\n",
        "\n",
        "- 샘플 데이터\n",
        "  - GitHub github link: https://github.com/blackdew/tensorflow1/tree/master/csv\n",
        "  - 레모네이드: https://raw.githubusercontent.com/blackdew/tensorflow1/master/csv/lemonade.csv\n",
        "  - 보스톤: https://raw.githubusercontent.com/blackdew/tensorflow1/master/csv/boston.csv\n",
        "  - 아이리스: https://raw.githubusercontent.com/blackdew/tensorflow1/master/csv/iris.csv\n",
        "\n",
        "\n",
        "\n"
      ]
    },
    {
      "cell_type": "code",
      "metadata": {
        "id": "71HBw1fs177j"
      },
      "source": [
        "import pandas as pd"
      ],
      "execution_count": null,
      "outputs": []
    },
    {
      "cell_type": "code",
      "metadata": {
        "id": "_myrHmZy1WBA"
      },
      "source": [
        "# 파일로부터 데이터 읽어오기\n",
        "파일경로 = 'https://raw.githubusercontent.com/blackdew/tensorflow1/master/csv/lemonade.csv'\n",
        "레모네이드 = pd.read_csv(파일경로)\n",
        "\n",
        "파일경로 = 'https://raw.githubusercontent.com/blackdew/tensorflow1/master/csv/boston.csv'\n",
        "보스턴 = pd.read_csv(파일경로)\n",
        "\n",
        "파일경로 = 'https://raw.githubusercontent.com/blackdew/tensorflow1/master/csv/iris.csv'\n",
        "아이리스 = pd.read_csv(파일경로)"
      ],
      "execution_count": null,
      "outputs": []
    },
    {
      "cell_type": "code",
      "metadata": {
        "id": "43Mfb9KQ1nVG"
      },
      "source": [
        "# 데이터의 모양확인\n",
        "print(레모네이드.shape)\n",
        "print(보스턴.shape)\n",
        "print(아이리스.shape)"
      ],
      "execution_count": null,
      "outputs": []
    },
    {
      "cell_type": "code",
      "metadata": {
        "id": "WxKyuG9P132N"
      },
      "source": [
        "# 데이터 칼럼이름 확인\n",
        "print(레모네이드.columns)\n",
        "print(보스턴.columns)\n",
        "print(아이리스.columns)"
      ],
      "execution_count": null,
      "outputs": []
    },
    {
      "cell_type": "code",
      "metadata": {
        "id": "RbNiZils1_xI"
      },
      "source": [
        "# 독립변수와 종속변수 분리\n",
        "독립 = 레모네이드[['온도']]\n",
        "종속 = 레모네이드[['판매량']]\n",
        "print(독립.shape, 종속.shape)\n",
        "\n",
        "독립 = 보스턴[['crim', 'zn', 'indus', 'chas', 'nox',\n",
        "            'rm', 'age', 'dis', 'rad', 'tax',\n",
        "            'ptratio', 'b', 'lstat']]\n",
        "종속 = 보스턴[['medv']]\n",
        "print(독립.shape, 종속.shape)\n",
        "\n",
        "독립 = 아이리스[['꽃잎길이', '꽃잎폭', '꽃받침길이', '꽃받침폭']]\n",
        "종속 = 아이리스[['품종']]\n",
        "print(독립.shape, 종속.shape)"
      ],
      "execution_count": null,
      "outputs": []
    },
    {
      "cell_type": "markdown",
      "metadata": {
        "id": "T3AL7bNfuZSu"
      },
      "source": [
        "#### 각각의 데이터 확인해보기"
      ]
    },
    {
      "cell_type": "code",
      "metadata": {
        "id": "kLOD_t4g2ilD"
      },
      "source": [
        "레모네이드.head()"
      ],
      "execution_count": null,
      "outputs": []
    },
    {
      "cell_type": "code",
      "metadata": {
        "id": "RnwYAFER25g0"
      },
      "source": [
        "보스턴.head()"
      ],
      "execution_count": null,
      "outputs": []
    },
    {
      "cell_type": "code",
      "metadata": {
        "id": "Gn7tPFiD27zY"
      },
      "source": [
        "아이리스.head()"
      ],
      "execution_count": null,
      "outputs": []
    },
    {
      "cell_type": "code",
      "metadata": {
        "id": "ewj13HG329RU"
      },
      "source": [],
      "execution_count": null,
      "outputs": []
    }
  ]
}